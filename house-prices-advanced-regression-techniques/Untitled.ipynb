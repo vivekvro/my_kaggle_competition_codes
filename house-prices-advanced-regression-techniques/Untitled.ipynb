{
 "cells": [
  {
   "cell_type": "code",
   "execution_count": 8,
   "id": "4cda5e3e-6c04-46ef-86ee-61e773e6d1ab",
   "metadata": {},
   "outputs": [],
   "source": [
    "import pandas as pd"
   ]
  },
  {
   "cell_type": "code",
   "execution_count": 28,
   "id": "ea60ff31-172e-472c-b779-480840e51c35",
   "metadata": {},
   "outputs": [],
   "source": [
    "df_sale = pd.read_csv('sample_submission1.csv').dropna()\n",
    "df_id = pd.read_csv('sample_submission2.csv').dropna()"
   ]
  },
  {
   "cell_type": "code",
   "execution_count": 29,
   "id": "4c2d8cce-1777-4872-9c40-65269bb5c6cd",
   "metadata": {},
   "outputs": [],
   "source": [
    "newdf = pd.concat([x,y],axis=1)"
   ]
  },
  {
   "cell_type": "code",
   "execution_count": 30,
   "id": "e29a2a0e-16d8-466e-b40a-09f328f4b197",
   "metadata": {},
   "outputs": [],
   "source": [
    "x = df_id['Id'].dropna()\n",
    "y = df_sale['SalePrice']"
   ]
  },
  {
   "cell_type": "code",
   "execution_count": 34,
   "id": "a53d3623-63b9-40ea-8e79-bf21ae909ca0",
   "metadata": {},
   "outputs": [],
   "source": [
    "newdf.to_csv('sample_submission.csv',index=False)"
   ]
  },
  {
   "cell_type": "code",
   "execution_count": null,
   "id": "a77567cc-7b73-4fd0-9173-3481e5d3ea2f",
   "metadata": {},
   "outputs": [],
   "source": []
  }
 ],
 "metadata": {
  "kernelspec": {
   "display_name": "Python 3 (ipykernel)",
   "language": "python",
   "name": "python3"
  },
  "language_info": {
   "codemirror_mode": {
    "name": "ipython",
    "version": 3
   },
   "file_extension": ".py",
   "mimetype": "text/x-python",
   "name": "python",
   "nbconvert_exporter": "python",
   "pygments_lexer": "ipython3",
   "version": "3.12.4"
  }
 },
 "nbformat": 4,
 "nbformat_minor": 5
}
